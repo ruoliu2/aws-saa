{
 "cells": [
  {
   "cell_type": "code",
   "execution_count": 2,
   "metadata": {},
   "outputs": [],
   "source": [
    "# read md from file\n",
    "markdown_table = open(\"services short.md\").read()\n",
    "\n",
    "# Split the markdown table into rows\n",
    "lines = markdown_table.strip().split(\"\\n\")\n",
    "\n",
    "# Extract the header and data rows\n",
    "header = lines[0] + \"\\n\" + lines[1]  # The first two lines (header and separator)\n",
    "data_rows = lines[2:-1]\n",
    "\n",
    "# Split the rows into \"Term\" and \"Definition\" and store in a list\n",
    "data = []\n",
    "for row in data_rows:\n",
    "    term, definition = row.split(\"|\")[1:3]  # Extract the term and definition columns\n",
    "    data.append((term.strip(), definition.strip()))  # Strip leading/trailing spaces\n",
    "\n",
    "# Sort the list of terms alphabetically\n",
    "sorted_data = sorted(data, key=lambda x: x[0])\n",
    "\n",
    "# Rebuild the sorted markdown table\n",
    "sorted_table = [header]  # Start with the header\n",
    "for term, definition in sorted_data:\n",
    "    sorted_table.append(f\"| {term.ljust(32)} | {definition.ljust(64)} |\")\n",
    "\n",
    "# Print the sorted markdown table\n",
    "sorted_table_str = \"\\n\".join(sorted_table)\n",
    "\n",
    "# output to file\n",
    "with open(\"services short sorted.md\", \"w\") as file:\n",
    "    file.write(sorted_table_str)"
   ]
  },
  {
   "cell_type": "code",
   "execution_count": null,
   "metadata": {},
   "outputs": [],
   "source": []
  }
 ],
 "metadata": {
  "kernelspec": {
   "display_name": "base",
   "language": "python",
   "name": "python3"
  },
  "language_info": {
   "codemirror_mode": {
    "name": "ipython",
    "version": 3
   },
   "file_extension": ".py",
   "mimetype": "text/x-python",
   "name": "python",
   "nbconvert_exporter": "python",
   "pygments_lexer": "ipython3",
   "version": "3.12.2"
  }
 },
 "nbformat": 4,
 "nbformat_minor": 2
}
